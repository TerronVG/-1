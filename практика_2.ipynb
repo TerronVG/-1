{
  "nbformat": 4,
  "nbformat_minor": 0,
  "metadata": {
    "colab": {
      "provenance": [],
      "authorship_tag": "ABX9TyOyGVGfz/Nua6Q86l1veBRK",
      "include_colab_link": true
    },
    "kernelspec": {
      "name": "python3",
      "display_name": "Python 3"
    },
    "language_info": {
      "name": "python"
    }
  },
  "cells": [
    {
      "cell_type": "markdown",
      "metadata": {
        "id": "view-in-github",
        "colab_type": "text"
      },
      "source": [
        "<a href=\"https://colab.research.google.com/github/TerronVG/-1/blob/main/%D0%BF%D1%80%D0%B0%D0%BA%D1%82%D0%B8%D0%BA%D0%B0_2.ipynb\" target=\"_parent\"><img src=\"https://colab.research.google.com/assets/colab-badge.svg\" alt=\"Open In Colab\"/></a>"
      ]
    },
    {
      "cell_type": "markdown",
      "source": [
        "Задание1"
      ],
      "metadata": {
        "id": "N3xMKdxKODpA"
      }
    },
    {
      "cell_type": "code",
      "execution_count": 9,
      "metadata": {
        "colab": {
          "base_uri": "https://localhost:8080/"
        },
        "id": "dEDYnhrPAYNi",
        "outputId": "8827c4a0-c90b-4641-8062-8f6c7aeea33e"
      },
      "outputs": [
        {
          "output_type": "stream",
          "name": "stdout",
          "text": [
            "5\n"
          ]
        }
      ],
      "source": [
        "# a=3\n",
        "# b=4\n",
        "# c=(a**2+b**2)**0.5\n",
        "# s=int(c)\n",
        "# print(s)"
      ]
    },
    {
      "cell_type": "markdown",
      "source": [
        "Задание2"
      ],
      "metadata": {
        "id": "kyASXN6vOLhl"
      }
    },
    {
      "cell_type": "code",
      "source": [
        "a=245\n",
        "d=a//100\n",
        "c=a//10\n",
        "v=c%10\n",
        "s=a%100\n",
        "x=s%10\n",
        "print(d,v,x)"
      ],
      "metadata": {
        "colab": {
          "base_uri": "https://localhost:8080/"
        },
        "id": "NWToghotJDyq",
        "outputId": "d736b05f-9331-4645-8906-70a9e45d402a"
      },
      "execution_count": 32,
      "outputs": [
        {
          "output_type": "stream",
          "name": "stdout",
          "text": [
            "2 4 5\n"
          ]
        }
      ]
    }
  ]
}